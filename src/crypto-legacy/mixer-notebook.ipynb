{
 "cells": [
  {
   "cell_type": "markdown",
   "id": "dc4db25a",
   "metadata": {},
   "source": [
    "# Linked transactions through decryption mixnet"
   ]
  },
  {
   "cell_type": "markdown",
   "id": "9c6fd0b9",
   "metadata": {},
   "source": [
    "Actors:\n",
    "* **Alice:** a client that sends a transaction to the mixer\n",
    "* **Mixer:** a set of nodes that mix input transactions\n",
    "* **Bob:** a client that receives a transaction from the mixer\n",
    "* **Regulator:** an entity that verifies compliance\n",
    "\n",
    "Tools:\n",
    "* **ElGamal** encryption for linkage parameter\n",
    "* **Hybrid encryption** (ElGamal + AES) for encryption mixnet (onion encryption)"
   ]
  },
  {
   "cell_type": "code",
   "execution_count": 1,
   "id": "a1e00425",
   "metadata": {},
   "outputs": [],
   "source": [
    "from elgamal import ElGamal, ElGamalHashed\n",
    "from point import Point\n",
    "from Crypto.Cipher import AES\n",
    "from Crypto.Random import get_random_bytes\n",
    "from sage.all_cmdline import *\n",
    "from hybrid import Hybrid\n",
    "import secrets\n",
    "from binascii import hexlify"
   ]
  },
  {
   "cell_type": "markdown",
   "id": "e02174ee",
   "metadata": {},
   "source": [
    "### Generate Regulator's ElGamal keys"
   ]
  },
  {
   "cell_type": "code",
   "execution_count": 2,
   "id": "9674f26b",
   "metadata": {},
   "outputs": [
    {
     "name": "stdout",
     "output_type": "stream",
     "text": [
      "Regulator public key: (16165501176944392564186016876443754158847076933925766793041796675405726455792:19219681901207557929654192488281158869583873627260977722777957480409268092306)\n"
     ]
    }
   ],
   "source": [
    "regHenc = ElGamalHashed()\n",
    "regPK = regHenc.getPublicKey()\n",
    "print('Regulator public key: {}'.format(regPK))"
   ]
  },
  {
   "cell_type": "markdown",
   "id": "8c83662f",
   "metadata": {},
   "source": [
    "### Generate mixnet keys"
   ]
  },
  {
   "cell_type": "code",
   "execution_count": 3,
   "id": "ad4e2ad9",
   "metadata": {},
   "outputs": [
    {
     "name": "stdout",
     "output_type": "stream",
     "text": [
      "--Mixnet(0) PK: \n",
      "   (11962211047773926181831691402477389803249114059214001555815593173338478044881:13844945796150477210085360869717859121533442528124761197645890830263830745868)\n",
      "--Mixnet(1) PK: \n",
      "   (16312699257534033848797376360549863335552993897633646681980141684934698247015:18424146183485718005714790159910971127785408932902904220535394153459905235442)\n",
      "--Mixnet(2) PK: \n",
      "   (10653313274955147664125312347265840135969802134875877841478087382532526238974:8954498403631560421557185197274021840727649785156168925086934891351651899113)\n",
      "--Mixnet(3) PK: \n",
      "   (8509978647586502421078109040135417738351233630276289872009538662048123412939:7838776322521178835687108566654139005017149526220170759952725762893493549)\n",
      "--Mixnet(4) PK: \n",
      "   (20875364747505857805973099416751738517448628491621601505139526606294968158126:21686669803496922130606767730747321907125708139876758603924496387790948045269)\n"
     ]
    }
   ],
   "source": [
    "n = 5\n",
    "mixnet = []\n",
    "mixnetPK = []\n",
    "for i in range(0, n):\n",
    "    mixnetHenc = Hybrid()\n",
    "    mixnet.append(mixnetHenc)\n",
    "    mixnetPK.append(mixnetHenc.getPublicKey())\n",
    "    print('--Mixnet({}) PK: \\n   {}'.format(i, mixnetPK[i]))"
   ]
  },
  {
   "cell_type": "markdown",
   "id": "8a1f7c3f",
   "metadata": {},
   "source": [
    "### Generate Alice's parameters"
   ]
  },
  {
   "cell_type": "markdown",
   "id": "b649ad8e",
   "metadata": {},
   "source": [
    "Alice computes $l1$ and $l2 = Enc_{regPK}(l1)$.\n",
    "Alice sends $Tx_1(l2)$ to the mixer."
   ]
  },
  {
   "cell_type": "code",
   "execution_count": 4,
   "id": "7710825f",
   "metadata": {},
   "outputs": [
    {
     "name": "stdout",
     "output_type": "stream",
     "text": [
      "Encrypt\n"
     ]
    }
   ],
   "source": [
    "address = secrets.randbits(160).to_bytes(20, 'little')\n",
    "l1 = secrets.randbits(256)\n",
    "aliceHenc = ElGamalHashed(regPK)\n",
    "l2_C1p, l2_c2 = aliceHenc.encrypt(l1)"
   ]
  },
  {
   "cell_type": "markdown",
   "id": "b69b7c58",
   "metadata": {},
   "source": [
    "Format data as $m = (addr || l1)$\n",
    "\n",
    "------------------\n",
    "TODELETE: Format data as $m = (addr || l2_{C1}.x || l2_{C1}.y || l2_{c2})$.\n",
    "Note that $l2_{C1}$ is a point in the curve. The message $m$ will be sent (encrypted) to the mixnet, and the mixer will send $Tx_2(addr, l2)$."
   ]
  },
  {
   "cell_type": "code",
   "execution_count": 5,
   "id": "e69cbb05",
   "metadata": {},
   "outputs": [],
   "source": [
    "#l2_C1p_x = int(l2_C1p.x).to_bytes(32, 'little')\n",
    "#l2_C1p_y = int(l2_C1p.y).to_bytes(32, 'little')\n",
    "    \n",
    "#m = address + l2_C1p_x + l2_C1p_y + l2_c2\n",
    "m = address + int(l1).to_bytes(32, 'little')"
   ]
  },
  {
   "cell_type": "code",
   "execution_count": 6,
   "id": "e706a63f",
   "metadata": {},
   "outputs": [
    {
     "name": "stdout",
     "output_type": "stream",
     "text": [
      "--address: \n",
      "   b'c387b4291a28dc8ffe88eba6a5570dccd917751d'\n",
      "--l1: \n",
      "   b'a8ceaf325d8e11c7c53b1c2252fe94013963417884b9539aa2166394906e3f68'\n",
      "--l2_C1p: \n",
      "   (14747460089051896594581502614109810246128292942268223647803965030423444617398:7451526578465640430529834458858810654003699292113716608075788272833392701268)\n",
      "--l2_c2: \n",
      "   b'6238cfe66e72a7171c5b3788fe4f7f811da7bd0e680d5f3039db7bfb088ca3d1'\n",
      "--m: \n",
      "   b'c387b4291a28dc8ffe88eba6a5570dccd917751da8ceaf325d8e11c7c53b1c2252fe94013963417884b9539aa2166394906e3f68'\n"
     ]
    }
   ],
   "source": [
    "print('--address: \\n   {}'.format(hexlify(address)))\n",
    "print('--l1: \\n   {}'.format(hexlify(l1.to_bytes(32, 'little'))))\n",
    "print('--l2_C1p: \\n   {}'.format(l2_C1p))\n",
    "print('--l2_c2: \\n   {}'.format(hexlify(l2_c2)))\n",
    "print('--m: \\n   {}'.format(hexlify(m)))"
   ]
  },
  {
   "cell_type": "markdown",
   "id": "2ce5c7ea",
   "metadata": {},
   "source": [
    "### Alice encrypts m for the mixnet"
   ]
  },
  {
   "cell_type": "markdown",
   "id": "6bbe8459",
   "metadata": {},
   "source": [
    "First, initialize the encryption objects with the mixnet public keys. Note that we use hybrid encryption."
   ]
  },
  {
   "cell_type": "code",
   "execution_count": 7,
   "id": "902b3ed3",
   "metadata": {},
   "outputs": [
    {
     "name": "stdout",
     "output_type": "stream",
     "text": [
      "Encrypt\n",
      "Encrypt\n",
      "Encrypt\n",
      "Encrypt\n",
      "Encrypt\n"
     ]
    }
   ],
   "source": [
    "aliceMenc = []\n",
    "for i in range(0, n):\n",
    "    aliceMenc.append(Hybrid(mixnetPK[i]))"
   ]
  },
  {
   "cell_type": "markdown",
   "id": "bbb5ed4a",
   "metadata": {},
   "source": [
    "Then, perform a layered encryption of $m$ using the mixnet public keys. Note that the ciphertext $ctx = c_n || c_t || c$, which are the nonce, the verification tag and the ciphertext itself."
   ]
  },
  {
   "cell_type": "code",
   "execution_count": 10,
   "id": "747872db",
   "metadata": {},
   "outputs": [
    {
     "name": "stdout",
     "output_type": "stream",
     "text": [
      "(M4) ctx: b'5d8d478d877112f8ed218757d02efc32471cb9f728a26735efc237adfa138676a39b62f2fc10f34164fda9fdef97df009c6541eb729a8f1ed654d1d2c44338fe14feb518dfb8671b8cdbca08440e87a29455921e43eb6ee560e55f4e1924aafa47b410f1c9330696855c7e1d1e7478a0f0fea2614df2e09101b050d325ee9c23ab43c7e2c069a7e7f64ca5faf75b3c0713f91152527c2a865fa60ed895f67757ffc6b7680242e024f8d61a44dad848caedd60603'\n"
     ]
    }
   ],
   "source": [
    "encryptedKeys = []\n",
    "ciphertexts = [m]\n",
    "\n",
    "for i in range(0, n):\n",
    "    c, c_t, c_n, c_C1p, c_c2 = aliceMenc[i].encrypt(ciphertexts[i])\n",
    "    ctx = c_n + c_t + c\n",
    "    ciphertexts.append(ctx)\n",
    "    encryptedKeys.append((c_C1p, c_c2))\n",
    "\n",
    "print('(M{}) ctx: {}'.format(n-1, hexlify(ciphertexts[n-1])))"
   ]
  },
  {
   "cell_type": "markdown",
   "id": "817f60b9",
   "metadata": {},
   "source": [
    "Alice sends $ctx4$ to $M4$, together with all the symmetric encrypted keys."
   ]
  },
  {
   "cell_type": "markdown",
   "id": "c412b4f4",
   "metadata": {},
   "source": [
    "### Compute the layered decryption"
   ]
  },
  {
   "cell_type": "markdown",
   "id": "8f5e06af",
   "metadata": {},
   "source": [
    "Each mixnet party deletes a layer of encryption, and performs a shuffling of the ciphertexts (the latter is ommitted in this example)."
   ]
  },
  {
   "cell_type": "code",
   "execution_count": 11,
   "id": "0613be64",
   "metadata": {},
   "outputs": [],
   "source": [
    "decryptions = []\n",
    "\n",
    "for i in range(n, 0, -1):\n",
    "    c_n = ciphertexts[i][:16]\n",
    "    c_t = ciphertexts[i][16:32]\n",
    "    c = ciphertexts[i][32:len(ciphertexts[i])]\n",
    "    c_encKey = encryptedKeys[i-1]\n",
    "    \n",
    "    data = mixnet[i-1].decrypt(c, c_t, c_n, c_encKey[0], c_encKey[1])\n",
    "    decryptions.append(data)"
   ]
  },
  {
   "cell_type": "markdown",
   "id": "133dd018",
   "metadata": {},
   "source": [
    "The last decryption is the message $m$."
   ]
  },
  {
   "cell_type": "code",
   "execution_count": 12,
   "id": "d5ea3db2",
   "metadata": {},
   "outputs": [
    {
     "name": "stdout",
     "output_type": "stream",
     "text": [
      "address: b'c387b4291a28dc8ffe88eba6a5570dccd917751d'\n",
      "l1: 47152610707698191413349915212418927833670448422911410738580342833855413079720\n"
     ]
    }
   ],
   "source": [
    "new_m = decryptions[n-1]\n",
    "a = 0\n",
    "b = 20\n",
    "mix_addr = new_m[a:b]\n",
    "a = b\n",
    "b += 32\n",
    "mix_l1 = int.from_bytes(new_m[a:b], 'little')\n",
    "\n",
    "#reg_l2C1x = int.from_bytes(new_m[a:b], 'little')\n",
    "#a = b\n",
    "#b += 32\n",
    "#reg_l2C1y = int.from_bytes(new_m[a:b], 'little')\n",
    "#a = b\n",
    "#reg_l2c2 = new_m[a:]\n",
    "\n",
    "#reg_l2C1 = Point(reg_l2C1x, reg_l2C1y)\n",
    "\n",
    "print('address: {}'.format(hexlify(mix_addr)))\n",
    "print('l1: {}'.format(mix_l1))\n",
    "#print('l2_C1p: {}'.format(reg_l2C1))\n",
    "#print('l2_c2: {}'.format(hexlify(reg_l2c2)))"
   ]
  },
  {
   "cell_type": "markdown",
   "id": "ed4d5a10",
   "metadata": {},
   "source": [
    "The mixer emits $Tx(l1)$"
   ]
  },
  {
   "cell_type": "markdown",
   "id": "c24cf179",
   "metadata": {},
   "source": [
    "### Regulator verification"
   ]
  },
  {
   "cell_type": "markdown",
   "id": "7e32327c",
   "metadata": {},
   "source": [
    "Finally, the Regulator can decrypt $l2$ and obtain $l1$."
   ]
  },
  {
   "cell_type": "code",
   "execution_count": 13,
   "id": "9b11d17a",
   "metadata": {},
   "outputs": [
    {
     "name": "stdout",
     "output_type": "stream",
     "text": [
      "l1(reg): b'a8ceaf325d8e11c7c53b1c2252fe94013963417884b9539aa2166394906e3f68'\n",
      "l1(reg) == l1?: True\n"
     ]
    }
   ],
   "source": [
    "val = regHenc.decrypt(l2_C1p, l2_c2)\n",
    "print('l1(reg): {}'.format(hexlify(val)))\n",
    "print('l1(reg) == l1?: {}'.format(val == mix_l1.to_bytes(32, 'little')))"
   ]
  },
  {
   "cell_type": "code",
   "execution_count": null,
   "id": "376be1cc",
   "metadata": {},
   "outputs": [],
   "source": []
  }
 ],
 "metadata": {
  "kernelspec": {
   "display_name": "Python 3 (ipykernel)",
   "language": "python",
   "name": "python3"
  },
  "language_info": {
   "codemirror_mode": {
    "name": "ipython",
    "version": 3
   },
   "file_extension": ".py",
   "mimetype": "text/x-python",
   "name": "python",
   "nbconvert_exporter": "python",
   "pygments_lexer": "ipython3",
   "version": "3.10.6"
  }
 },
 "nbformat": 4,
 "nbformat_minor": 5
}
